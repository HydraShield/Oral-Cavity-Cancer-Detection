{
 "cells": [
  {
   "cell_type": "code",
   "execution_count": 1,
   "id": "653751f1-9eb4-4c50-aa30-4db4fa33ddae",
   "metadata": {
    "tags": []
   },
   "outputs": [],
   "source": [
    "import csv\n",
    "import os\n",
    "import cv2\n",
    "\n",
    "folder_path = \"./Dataset/\"\n",
    "classes = {'NOC': 0,\n",
    "           'OSCC': 1\n",
    "           }\n",
    "\n",
    "\n",
    "def load_images(directory):\n",
    "    A, B = [], []\n",
    "    for r, d, f in os.walk(folder_path + directory):\n",
    "        for file in f:\n",
    "            img = cv2.imread(r + \"/\" + file)[...,::-1]\n",
    "            img = cv2.resize(img, (224, 224))\n",
    "            if(classes[r[16:]]==0):\n",
    "                A.append(img)\n",
    "            else:\n",
    "                B.append(img)\n",
    "\n",
    "    return A, B"
   ]
  },
  {
   "cell_type": "code",
   "execution_count": 2,
   "id": "a57439a9-34ff-4033-a93b-ec3d91a6cffe",
   "metadata": {
    "tags": []
   },
   "outputs": [],
   "source": [
    "dataTest0, dataTest1 = load_images('testq')\n",
    "# dataTr0, dataTr1 = load_images('train')"
   ]
  },
  {
   "cell_type": "code",
   "execution_count": 3,
   "id": "322880ea-fde1-4573-b7e1-1cad9e16fa9a",
   "metadata": {
    "tags": []
   },
   "outputs": [],
   "source": [
    "B = [[0, item] for item in dataTest0]\n",
    "B = B + [[1, item] for item in dataTest1]\n",
    "\n",
    "# A = [[0, item] for item in dataTr0]\n",
    "# A = A + [[1, item] for item in dataTr1]"
   ]
  },
  {
   "cell_type": "code",
   "execution_count": 4,
   "id": "d53419ca-f7dd-477c-8644-86ff26ec9c02",
   "metadata": {
    "tags": []
   },
   "outputs": [],
   "source": [
    "import numpy as np\n",
    "\n",
    "y = [[1, 0], [0, 1]]\n",
    "\n",
    "X_val = np.array([item[1] for item in B]).astype(float) / 255.0\n",
    "Y_val = np.array([y[int(item[0])] for item in B]).astype(float)\n",
    "Y_val = Y_val.reshape(305, 2)\n",
    "\n",
    "# X_val1 = np.array([item[1] for item in A]).astype(float) / 255.0\n",
    "# Y_val1 = np.array([y[int(item[0])] for item in A]).astype(float)\n",
    "# Y_val1 = Y_val1.reshape(1682, 2)"
   ]
  },
  {
   "cell_type": "code",
   "execution_count": 5,
   "id": "5ed83e42-3092-4d1d-9a05-c7250ea658a3",
   "metadata": {
    "tags": []
   },
   "outputs": [
    {
     "data": {
      "text/plain": [
       "(305, 2)"
      ]
     },
     "execution_count": 5,
     "metadata": {},
     "output_type": "execute_result"
    }
   ],
   "source": [
    "Y_val.shape"
   ]
  },
  {
   "cell_type": "code",
   "execution_count": 6,
   "id": "7535eaf7-0968-43fe-943b-a73037e9d122",
   "metadata": {
    "tags": []
   },
   "outputs": [
    {
     "data": {
      "text/plain": [
       "(305, 224, 224, 3)"
      ]
     },
     "execution_count": 6,
     "metadata": {},
     "output_type": "execute_result"
    }
   ],
   "source": [
    "X_val.shape"
   ]
  },
  {
   "cell_type": "code",
   "execution_count": 7,
   "id": "6e8b3c28-a25e-4fce-9510-f0a3b724f874",
   "metadata": {
    "tags": []
   },
   "outputs": [],
   "source": [
    "from keras.models import model_from_json\n",
    "\n",
    "with open(\"./Final Model/model1.json\", \"r\") as f:\n",
    "    model1 = model_from_json(f.read())\n",
    "    f.close()\n",
    "    \n",
    "model1.load_weights(\"./Final Model/modelOpt1.h5\")\n",
    "\n",
    "with open(\"./Final Model/model2.json\", \"r\") as f:\n",
    "    model2 = model_from_json(f.read())\n",
    "    f.close()\n",
    "    \n",
    "model2.load_weights(\"./Final Model/modelOpt2.h5\")\n",
    "\n",
    "with open(\"./Final Model/model3.json\", \"r\") as f:\n",
    "    model3 = model_from_json(f.read())\n",
    "    f.close()\n",
    "    \n",
    "model3.load_weights(\"./Final Model/modelOpt3.h5\")"
   ]
  },
  {
   "cell_type": "code",
   "execution_count": 8,
   "id": "e0ef6e56-f35c-4045-a725-0573bd038a4e",
   "metadata": {
    "tags": []
   },
   "outputs": [
    {
     "name": "stdout",
     "output_type": "stream",
     "text": [
      "10/10 [==============================] - 2s 151ms/step\n",
      "10/10 [==============================] - 3s 273ms/step\n",
      "10/10 [==============================] - 34s 3s/step\n"
     ]
    }
   ],
   "source": [
    "y1 = model1.predict(X_val)\n",
    "y2 = model2.predict(X_val)\n",
    "y3 = model3.predict(X_val)\n"
   ]
  },
  {
   "cell_type": "code",
   "execution_count": 9,
   "id": "9cef762d",
   "metadata": {},
   "outputs": [],
   "source": [
    "y = (1*y1+6*y2+4*y3)/(11)"
   ]
  },
  {
   "cell_type": "code",
   "execution_count": 10,
   "id": "06bbecfc-56c3-46ec-8a28-d4a2e981626f",
   "metadata": {
    "tags": []
   },
   "outputs": [],
   "source": [
    "confMatrix1 = [[0, 0], [0, 0]]\n",
    "confMatrix2 = [[0, 0], [0, 0]]\n",
    "confMatrix3 = [[0, 0], [0, 0]]\n",
    "confMatrix = [[0, 0], [0, 0]]\n",
    "\n",
    "for i in range(len(y)):\n",
    "    confMatrix[Y_val[i].argmax()][y[i].argmax()] += 1\n",
    "    confMatrix1[Y_val[i].argmax()][y1[i].argmax()] += 1\n",
    "    confMatrix2[Y_val[i].argmax()][y2[i].argmax()] += 1\n",
    "    confMatrix3[Y_val[i].argmax()][y3[i].argmax()] += 1"
   ]
  },
  {
   "cell_type": "code",
   "execution_count": 11,
   "id": "91812fc3-9325-4583-9ce6-afe67c212a88",
   "metadata": {
    "tags": []
   },
   "outputs": [
    {
     "name": "stdout",
     "output_type": "stream",
     "text": [
      "[[57, 15], [17, 216]]\n",
      "[[59, 13], [13, 220]]\n",
      "[[63, 9], [30, 203]]\n",
      "[[60, 12], [10, 223]]\n"
     ]
    }
   ],
   "source": [
    "print(confMatrix1)\n",
    "print(confMatrix2)\n",
    "print(confMatrix3)\n",
    "print(confMatrix)"
   ]
  },
  {
   "cell_type": "code",
   "execution_count": 36,
   "id": "d776283d-9045-4e2c-9d65-ecb040d6c91d",
   "metadata": {
    "tags": []
   },
   "outputs": [],
   "source": [
    "def evaluate_model(CM):\n",
    "    t = len(y)\n",
    "\n",
    "    acc = (CM[0][0]+CM[1][1])/t\n",
    "    pre = (CM[1][1])/(CM[0][1]+CM[1][1])\n",
    "    reca = (CM[1][1])/(CM[1][0]+CM[1][1])\n",
    "    f1 = 2*pre*reca/(pre+reca)\n",
    "    # specificity = confMatrix[0][0]/(confMatrix[0][0]+confMatrix[1][0])\n",
    "    \n",
    "    return([acc, pre, reca, f1])"
   ]
  },
  {
   "cell_type": "code",
   "execution_count": 38,
   "id": "52d20df7-cde2-417c-aacf-2a93d493a3dc",
   "metadata": {
    "tags": []
   },
   "outputs": [
    {
     "name": "stdout",
     "output_type": "stream",
     "text": [
      "[0.9278688524590164, 0.948936170212766, 0.9570815450643777, 0.952991452991453]\n",
      "[0.8950819672131147, 0.935064935064935, 0.927038626609442, 0.9310344827586207]\n",
      "[0.9147540983606557, 0.944206008583691, 0.944206008583691, 0.944206008583691]\n",
      "[0.8721311475409836, 0.9575471698113207, 0.871244635193133, 0.9123595505617977]\n"
     ]
    }
   ],
   "source": [
    "print(evaluate_model(confMatrix))\n",
    "print(evaluate_model(confMatrix1))\n",
    "print(evaluate_model(confMatrix2))\n",
    "print(evaluate_model(confMatrix3))"
   ]
  },
  {
   "cell_type": "code",
   "execution_count": 14,
   "id": "f67700cb-2bde-4931-bee4-47b579e213a5",
   "metadata": {},
   "outputs": [
    {
     "data": {
      "text/plain": [
       "(array([0.3646447, 0.6353553], dtype=float32), array([0., 1.]))"
      ]
     },
     "execution_count": 14,
     "metadata": {},
     "output_type": "execute_result"
    }
   ],
   "source": [
    "y[240], Y_val[240]"
   ]
  },
  {
   "cell_type": "code",
   "execution_count": 15,
   "id": "b6b05f51-bb36-4f4c-9251-7bd001864774",
   "metadata": {},
   "outputs": [],
   "source": [
    "# Try to find perfect weights"
   ]
  },
  {
   "cell_type": "code",
   "execution_count": 16,
   "id": "58ea535c",
   "metadata": {},
   "outputs": [
    {
     "name": "stdout",
     "output_type": "stream",
     "text": [
      "(305, 2) (305, 2)\n"
     ]
    }
   ],
   "source": [
    "print(y.shape, y1.shape)"
   ]
  },
  {
   "cell_type": "code",
   "execution_count": 17,
   "id": "dfc26e2c",
   "metadata": {},
   "outputs": [],
   "source": [
    "yq = Y_val[:,1]"
   ]
  },
  {
   "cell_type": "code",
   "execution_count": 18,
   "id": "d68add5a",
   "metadata": {},
   "outputs": [],
   "source": [
    "# import math\n",
    "# w = []\n",
    "# bestLoss = 100000\n",
    "\n",
    "# for w1 in range(1, 100):\n",
    "#     for w2 in range(1, 100):\n",
    "#         for w3 in range (1, 100):\n",
    "#             if(w1==0 and w2==0 and w3==0):\n",
    "#                 continue\n",
    "#             yt = ( (w1*y1+w2*y2+w3*y3)/float(w1+w2+w3))[:,1]\n",
    "#             # loss = (1. / yq.shape[0]) * (-np.dot(yq, np.log(yt)) - np.dot(1 - yq, np.log(1 - yt)))\n",
    "#             loss = 0\n",
    "#             loss1 = 0\n",
    "#             for i in range(305):\n",
    "#                 if (yq[i]==1 and yt[i]<0.5):\n",
    "#                     loss+=1\n",
    "#                 elif (yq[i]==0 and yt[i]>=0.5):\n",
    "#                     loss1+=1 \n",
    "#             if(loss < bestLoss):\n",
    "#                 bestLoss = loss\n",
    "#                 w = [w1, w2, w3]\n",
    "#                 print(w, bestLoss, loss1)\n",
    "\n",
    "# print(w, bestLoss)\n"
   ]
  },
  {
   "cell_type": "code",
   "execution_count": null,
   "id": "c8354894",
   "metadata": {},
   "outputs": [],
   "source": []
  },
  {
   "cell_type": "code",
   "execution_count": null,
   "id": "2f9463ea",
   "metadata": {},
   "outputs": [],
   "source": []
  }
 ],
 "metadata": {
  "kernelspec": {
   "display_name": "Python 3 (ipykernel)",
   "language": "python",
   "name": "python3"
  },
  "language_info": {
   "codemirror_mode": {
    "name": "ipython",
    "version": 3
   },
   "file_extension": ".py",
   "mimetype": "text/x-python",
   "name": "python",
   "nbconvert_exporter": "python",
   "pygments_lexer": "ipython3",
   "version": "3.11.1"
  }
 },
 "nbformat": 4,
 "nbformat_minor": 5
}
